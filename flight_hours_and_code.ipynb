{
 "cells": [
  {
   "cell_type": "markdown",
   "metadata": {},
   "source": [
    "# Flight hours and code\n",
    "\n",
    "\n",
    "- obtain the minimum flight hours between regions from Tequila-API\n",
    "- get the iata code of all the airports in a country's captial "
   ]
  },
  {
   "cell_type": "code",
   "execution_count": 4,
   "metadata": {},
   "outputs": [],
   "source": [
    "import requests\n",
    "import numpy as np\n",
    "import pandas as pd"
   ]
  },
  {
   "cell_type": "markdown",
   "metadata": {},
   "source": [
    "### Example usage of Tequila"
   ]
  },
  {
   "cell_type": "code",
   "execution_count": 2,
   "metadata": {},
   "outputs": [],
   "source": [
    "url= \\\n",
    "\"https://tequila-api.kiwi.com/v2/search?fly_from=JFK&fly_to=IAD&\\\n",
    "date_from=01%2F5%2F2021&date_to=05%2F12%2F2021&\\\n",
    "&adults=1&selected_cabins=C\\\n",
    "&only_working_days=false&only_weekends=false&partner_market=us\\\n",
    "&vehicle_type=aircraft&limit=500\"\n"
   ]
  },
  {
   "cell_type": "code",
   "execution_count": 181,
   "metadata": {},
   "outputs": [],
   "source": [
    "''' change orign and destination '''\n",
    "origin='JFK'\n",
    "destination='BOF'\n",
    "\n",
    "# location in URL string \n",
    "i_o=url.find('fly_from=')+9\n",
    "i_t=url.find('fly_to=')+7\n",
    "url=url[:i_o]+origin+url[i_o+3:]\n",
    "url=url[:i_t]+destination+url[i_t+3:]"
   ]
  },
  {
   "cell_type": "code",
   "execution_count": 89,
   "metadata": {},
   "outputs": [
    {
     "data": {
      "text/plain": [
       "'https://tequila-api.kiwi.com/v2/search?fly_from=JFK&fly_to=IAD&date_from=01%2F5%2F2021&date_to=05%2F12%2F2021&&adults=1&selected_cabins=C&only_working_days=false&only_weekends=false&partner_market=us&vehicle_type=aircraft&limit=500'"
      ]
     },
     "execution_count": 89,
     "metadata": {},
     "output_type": "execute_result"
    }
   ],
   "source": [
    "url"
   ]
  },
  {
   "cell_type": "code",
   "execution_count": 183,
   "metadata": {},
   "outputs": [],
   "source": [
    "z=requests.get(url, headers={'apikey':'h9SPJMYOmyBUKErHTUpHls71cZtqXqly'}\n",
    ").json()"
   ]
  },
  {
   "cell_type": "code",
   "execution_count": 184,
   "metadata": {},
   "outputs": [
    {
     "data": {
      "text/plain": [
       "True"
      ]
     },
     "execution_count": 184,
     "metadata": {},
     "output_type": "execute_result"
    }
   ],
   "source": [
    "'data' in z.keys()"
   ]
  },
  {
   "cell_type": "code",
   "execution_count": 173,
   "metadata": {},
   "outputs": [],
   "source": [
    "#len(z['data'])"
   ]
  },
  {
   "cell_type": "code",
   "execution_count": 175,
   "metadata": {},
   "outputs": [
    {
     "name": "stdout",
     "output_type": "stream",
     "text": [
      "1.6604938271604937\n",
      "1.6\n"
     ]
    }
   ],
   "source": [
    "# get the minimum and mean flight duration between origin and destination \n",
    "durations=[]\n",
    "for i in range(len(z['data'])):\n",
    "    #h,m=z['data'][i]['duration']\n",
    "    #durations.append(int(h)+int(m[:-1])/60.)\n",
    "    durations.append(z['data'][i]['duration']['departure']/3600)\n",
    "durations=np.array(durations)\n",
    "print(durations.mean())\n",
    "print(durations.min())"
   ]
  },
  {
   "cell_type": "markdown",
   "metadata": {},
   "source": [
    "## Represent countrie locations by capitals"
   ]
  },
  {
   "cell_type": "code",
   "execution_count": 5,
   "metadata": {},
   "outputs": [],
   "source": [
    "capitals=pd.read_csv(\"country-list.csv\")\n",
    "#https://github.com/icyrockcom/country-capitals/blob/master/data/country-list.csv"
   ]
  },
  {
   "cell_type": "code",
   "execution_count": 6,
   "metadata": {},
   "outputs": [
    {
     "data": {
      "text/html": [
       "<div>\n",
       "<style scoped>\n",
       "    .dataframe tbody tr th:only-of-type {\n",
       "        vertical-align: middle;\n",
       "    }\n",
       "\n",
       "    .dataframe tbody tr th {\n",
       "        vertical-align: top;\n",
       "    }\n",
       "\n",
       "    .dataframe thead th {\n",
       "        text-align: right;\n",
       "    }\n",
       "</style>\n",
       "<table border=\"1\" class=\"dataframe\">\n",
       "  <thead>\n",
       "    <tr style=\"text-align: right;\">\n",
       "      <th></th>\n",
       "      <th>country</th>\n",
       "      <th>capital</th>\n",
       "      <th>type</th>\n",
       "    </tr>\n",
       "  </thead>\n",
       "  <tbody>\n",
       "    <tr>\n",
       "      <th>0</th>\n",
       "      <td>Abkhazia</td>\n",
       "      <td>Sukhumi</td>\n",
       "      <td>countryCapital</td>\n",
       "    </tr>\n",
       "    <tr>\n",
       "      <th>1</th>\n",
       "      <td>Afghanistan</td>\n",
       "      <td>Kabul</td>\n",
       "      <td>countryCapital</td>\n",
       "    </tr>\n",
       "    <tr>\n",
       "      <th>2</th>\n",
       "      <td>Akrotiri and Dhekelia</td>\n",
       "      <td>Episkopi Cantonment</td>\n",
       "      <td>countryCapital</td>\n",
       "    </tr>\n",
       "    <tr>\n",
       "      <th>3</th>\n",
       "      <td>Albania</td>\n",
       "      <td>Tirana</td>\n",
       "      <td>countryCapital</td>\n",
       "    </tr>\n",
       "    <tr>\n",
       "      <th>4</th>\n",
       "      <td>Algeria</td>\n",
       "      <td>Algiers</td>\n",
       "      <td>countryCapital</td>\n",
       "    </tr>\n",
       "    <tr>\n",
       "      <th>...</th>\n",
       "      <td>...</td>\n",
       "      <td>...</td>\n",
       "      <td>...</td>\n",
       "    </tr>\n",
       "    <tr>\n",
       "      <th>243</th>\n",
       "      <td>Wallis and Futuna</td>\n",
       "      <td>Mata-Utu</td>\n",
       "      <td>countryCapital</td>\n",
       "    </tr>\n",
       "    <tr>\n",
       "      <th>244</th>\n",
       "      <td>Western Sahara</td>\n",
       "      <td>El Aaiún</td>\n",
       "      <td>countryCapital</td>\n",
       "    </tr>\n",
       "    <tr>\n",
       "      <th>245</th>\n",
       "      <td>Yemen</td>\n",
       "      <td>Sanaá</td>\n",
       "      <td>countryCapital</td>\n",
       "    </tr>\n",
       "    <tr>\n",
       "      <th>246</th>\n",
       "      <td>Zambia</td>\n",
       "      <td>Lusaka</td>\n",
       "      <td>countryCapital</td>\n",
       "    </tr>\n",
       "    <tr>\n",
       "      <th>247</th>\n",
       "      <td>Zimbabwe</td>\n",
       "      <td>Harare</td>\n",
       "      <td>countryCapital</td>\n",
       "    </tr>\n",
       "  </tbody>\n",
       "</table>\n",
       "<p>248 rows × 3 columns</p>\n",
       "</div>"
      ],
      "text/plain": [
       "                   country              capital            type\n",
       "0                 Abkhazia              Sukhumi  countryCapital\n",
       "1              Afghanistan                Kabul  countryCapital\n",
       "2    Akrotiri and Dhekelia  Episkopi Cantonment  countryCapital\n",
       "3                  Albania               Tirana  countryCapital\n",
       "4                  Algeria              Algiers  countryCapital\n",
       "..                     ...                  ...             ...\n",
       "243      Wallis and Futuna             Mata-Utu  countryCapital\n",
       "244         Western Sahara             El Aaiún  countryCapital\n",
       "245                  Yemen                Sanaá  countryCapital\n",
       "246                 Zambia               Lusaka  countryCapital\n",
       "247               Zimbabwe               Harare  countryCapital\n",
       "\n",
       "[248 rows x 3 columns]"
      ]
     },
     "execution_count": 6,
     "metadata": {},
     "output_type": "execute_result"
    }
   ],
   "source": [
    "capitals"
   ]
  },
  {
   "cell_type": "code",
   "execution_count": 11,
   "metadata": {},
   "outputs": [],
   "source": [
    "# list of countries in sim\n",
    "countries=pd.read_csv(\"prevalance_419.csv\")\n",
    "countries=countries[~countries.location.str.startswith(\"US.\")]\n",
    "countries=countries.location.to_numpy()"
   ]
  },
  {
   "cell_type": "code",
   "execution_count": 12,
   "metadata": {},
   "outputs": [],
   "source": [
    "# create country:capital dictiionary \n",
    "capital_dict={}\n",
    "for c in countries:\n",
    "    row=capitals[capitals.country==c]\n",
    "    cc=list(row.capital.to_numpy())\n",
    "    \n",
    "    capital_dict[c]=cc\n",
    "    "
   ]
  },
  {
   "cell_type": "code",
   "execution_count": 13,
   "metadata": {},
   "outputs": [
    {
     "name": "stdout",
     "output_type": "stream",
     "text": [
      "Cote d'Ivoire\n",
      "Eswatini\n",
      "Sao Tome and Principe\n",
      "West Bank and Gaza\n"
     ]
    }
   ],
   "source": [
    "# countries without captitals\n",
    "for i in capital_dict:\n",
    "    if len(capital_dict[i])==0:\n",
    "        print(i)"
   ]
  },
  {
   "cell_type": "code",
   "execution_count": 14,
   "metadata": {},
   "outputs": [],
   "source": [
    "# put in data manually \n",
    "capital_dict[\"Cote d'Ivoire\"]=['Yamoussoukro', 'Abidjan']\n",
    "capital_dict['Eswatini']=['Mbabane','Lobamba']\n",
    "capital_dict['Sao Tome and Principe']=['Sao Tome']\n",
    "capital_dict['West Bank and Gaza']=['Jerusalem','Gaza']"
   ]
  },
  {
   "cell_type": "code",
   "execution_count": 58,
   "metadata": {},
   "outputs": [],
   "source": [
    "# rename some captials \n",
    "capital_dict['US']=['Washington']\n",
    "capital_dict['Bolivia']=['La Paz / El Alto']\n",
    "capital_dict['South Africa']=['Johannesburg']\n",
    "capital_dict['Belize']=['Belize City']\n",
    "capital_dict['Cuba']=['Cienfuegos']"
   ]
  },
  {
   "cell_type": "code",
   "execution_count": 46,
   "metadata": {},
   "outputs": [
    {
     "data": {
      "text/plain": [
       "{'Afghanistan': ['Kabul'],\n",
       " 'Albania': ['Tirana'],\n",
       " 'Algeria': ['Algiers'],\n",
       " 'Andorra': ['Andorra la Vella'],\n",
       " 'Angola': ['Luanda'],\n",
       " 'Antigua and Barbuda': [\"St. John's\"],\n",
       " 'Argentina': ['Buenos Aires'],\n",
       " 'Armenia': ['Yerevan'],\n",
       " 'Australia': ['Canberra'],\n",
       " 'Austria': ['Vienna'],\n",
       " 'Azerbaijan': ['Baku'],\n",
       " 'Bahamas': ['Nassau'],\n",
       " 'Bahrain': ['Manama'],\n",
       " 'Bangladesh': ['Dhaka'],\n",
       " 'Barbados': ['Bridgetown'],\n",
       " 'Belarus': ['Minsk'],\n",
       " 'Belgium': ['Brussels'],\n",
       " 'Belize': ['Belize City'],\n",
       " 'Bolivia': ['La Paz / El Alto'],\n",
       " 'Bosnia and Herzegovina': ['Sarajevo'],\n",
       " 'Botswana': ['Gaborone'],\n",
       " 'Brazil': ['Brasília'],\n",
       " 'Bulgaria': ['Sofia'],\n",
       " 'Burkina Faso': ['Ouagadougou'],\n",
       " 'Burma': ['Naypyidaw'],\n",
       " 'Cabo Verde': ['Praia'],\n",
       " 'Cameroon': ['Yaoundé'],\n",
       " 'Canada': ['Ottawa'],\n",
       " 'Central African Republic': ['Bangui'],\n",
       " 'Chile': ['Santiago'],\n",
       " 'China': ['Beijing'],\n",
       " 'Colombia': ['Bogotá'],\n",
       " 'Comoros': ['Moroni'],\n",
       " 'Congo (Brazzaville)': ['Brazzaville'],\n",
       " 'Congo (Kinshasa)': ['Kinshasa'],\n",
       " 'Costa Rica': ['San José (Alajuela)'],\n",
       " \"Cote d'Ivoire\": ['Yamoussoukro', 'Abidjan'],\n",
       " 'Croatia': ['Zagreb'],\n",
       " 'Cuba': ['Cienfuegos'],\n",
       " 'Cyprus': ['Nicosia'],\n",
       " 'Czechia': ['Prague'],\n",
       " 'Denmark': ['Copenhagen'],\n",
       " 'Djibouti': ['Djibouti City'],\n",
       " 'Dominican Republic': ['Santo Domingo'],\n",
       " 'Ecuador': ['Quito'],\n",
       " 'Egypt': ['Cairo'],\n",
       " 'El Salvador': ['San Salvador (San Luis Talpa)'],\n",
       " 'Equatorial Guinea': ['Malabo'],\n",
       " 'Estonia': ['Tallinn'],\n",
       " 'Eswatini': ['Manzini', 'Mpaka'],\n",
       " 'Ethiopia': ['Addis Ababa'],\n",
       " 'Finland': ['Helsinki'],\n",
       " 'France': ['Paris'],\n",
       " 'Gabon': ['Libreville'],\n",
       " 'Gambia': ['Banjul'],\n",
       " 'Georgia': ['Tbilisi'],\n",
       " 'Germany': ['Berlin'],\n",
       " 'Ghana': ['Accra'],\n",
       " 'Greece': ['Athens'],\n",
       " 'Guatemala': ['Guatemala City'],\n",
       " 'Guinea': ['Conakry'],\n",
       " 'Guinea-Bissau': ['Bissau'],\n",
       " 'Guyana': ['Georgetown'],\n",
       " 'Haiti': ['Port-au-Prince'],\n",
       " 'Honduras': ['Tegucigalpa'],\n",
       " 'Hungary': ['Budapest'],\n",
       " 'Iceland': ['Reykjavík'],\n",
       " 'India': ['New Delhi'],\n",
       " 'Indonesia': ['Jakarta'],\n",
       " 'Iran': ['Tehran'],\n",
       " 'Iraq': ['Baghdad'],\n",
       " 'Ireland': ['Dublin'],\n",
       " 'Israel': ['Tel Aviv'],\n",
       " 'Italy': ['Rome'],\n",
       " 'Jamaica': ['Kingston'],\n",
       " 'Japan': ['Tokyo'],\n",
       " 'Jordan': ['Amman'],\n",
       " 'Kazakhstan': ['Nur-Sultan'],\n",
       " 'Kenya': ['Nairobi'],\n",
       " 'Korea, South': ['Seoul'],\n",
       " 'Kosovo': ['Pristina'],\n",
       " 'Kuwait': ['Kuwait City'],\n",
       " 'Kyrgyzstan': ['Bishkek'],\n",
       " 'Latvia': ['Riga'],\n",
       " 'Lebanon': ['Beirut'],\n",
       " 'Lesotho': ['Maseru'],\n",
       " 'Libya': ['Tripoli'],\n",
       " 'Liechtenstein': ['Vaduz'],\n",
       " 'Lithuania': ['Vilnius'],\n",
       " 'Luxembourg': ['Luxembourg'],\n",
       " 'Madagascar': ['Antananarivo'],\n",
       " 'Malawi': ['Lilongwe'],\n",
       " 'Malaysia': ['Kuala Lumpur'],\n",
       " 'Maldives': ['Malé'],\n",
       " 'Mali': ['Bamako'],\n",
       " 'Malta': ['Valletta'],\n",
       " 'Mauritania': ['Nouakchott'],\n",
       " 'Mexico': ['Mexico City'],\n",
       " 'Moldova': ['Chisinau'],\n",
       " 'Monaco': ['Fontvieille'],\n",
       " 'Mongolia': ['Ulaanbaatar'],\n",
       " 'Montenegro': ['Podgorica'],\n",
       " 'Morocco': ['Rabat'],\n",
       " 'Mozambique': ['Maputo'],\n",
       " 'Namibia': ['Windhoek'],\n",
       " 'Nepal': ['Kathmandu'],\n",
       " 'Netherlands': ['Amsterdam'],\n",
       " 'Nicaragua': ['Managua'],\n",
       " 'Nigeria': ['Abuja'],\n",
       " 'North Macedonia': ['Skopje'],\n",
       " 'Norway': ['Oslo'],\n",
       " 'Oman': ['Muscat'],\n",
       " 'Pakistan': ['Islamabad'],\n",
       " 'Panama': ['Panamá City'],\n",
       " 'Papua New Guinea': ['Port Moresby'],\n",
       " 'Paraguay': ['Asunción'],\n",
       " 'Peru': ['Lima'],\n",
       " 'Philippines': ['Manila'],\n",
       " 'Poland': ['Warsaw'],\n",
       " 'Portugal': ['Lisbon'],\n",
       " 'Qatar': ['Doha'],\n",
       " 'Romania': ['Bucharest'],\n",
       " 'Russia': ['Moscow'],\n",
       " 'Rwanda': ['Kigali'],\n",
       " 'Saint Lucia': ['Castries'],\n",
       " 'Saint Vincent and the Grenadines': ['Kingstown'],\n",
       " 'San Marino': ['San Marino'],\n",
       " 'Sao Tome and Principe': ['São Tomé'],\n",
       " 'Saudi Arabia': ['Riyadh'],\n",
       " 'Senegal': ['Dakar'],\n",
       " 'Serbia': ['Belgrade'],\n",
       " 'Seychelles': ['Mahe Island'],\n",
       " 'Singapore': ['Singapore'],\n",
       " 'Slovakia': ['Bratislava'],\n",
       " 'Slovenia': ['Ljubljana'],\n",
       " 'Somalia': ['Mogadishu'],\n",
       " 'South Africa': ['Johannesburg'],\n",
       " 'South Sudan': ['Juba'],\n",
       " 'Spain': ['Madrid'],\n",
       " 'Sri Lanka': ['Colombo'],\n",
       " 'Sudan': ['Khartoum'],\n",
       " 'Suriname': ['Paramaribo'],\n",
       " 'Sweden': ['Stockholm'],\n",
       " 'Switzerland': ['Bern'],\n",
       " 'Syria': ['Damascus'],\n",
       " 'Tajikistan': ['Dushanbe'],\n",
       " 'Thailand': ['Bangkok'],\n",
       " 'Togo': ['Lomé'],\n",
       " 'Trinidad and Tobago': ['Port of Spain'],\n",
       " 'Tunisia': ['Tunis'],\n",
       " 'Turkey': ['Ankara'],\n",
       " 'Uganda': ['Kampala'],\n",
       " 'Ukraine': ['Kiev'],\n",
       " 'United Arab Emirates': ['Abu Dhabi'],\n",
       " 'United Kingdom': ['London'],\n",
       " 'Uruguay': ['Montevideo'],\n",
       " 'Uzbekistan': ['Tashkent'],\n",
       " 'Venezuela': ['Caracas'],\n",
       " 'West Bank and Gaza': ['Jerusalem', 'Gaza'],\n",
       " 'Zambia': ['Lusaka'],\n",
       " 'Zimbabwe': ['Harare'],\n",
       " 'US': ['Washington']}"
      ]
     },
     "execution_count": 46,
     "metadata": {},
     "output_type": "execute_result"
    }
   ],
   "source": [
    "capital_dict"
   ]
  },
  {
   "cell_type": "code",
   "execution_count": 10,
   "metadata": {},
   "outputs": [],
   "source": [
    "# Alpha-2 code \n",
    "iso=pd.read_csv(\"iso_country_code.csv\")\n",
    "# https://gist.github.com/tadast/8827699"
   ]
  },
  {
   "cell_type": "code",
   "execution_count": 11,
   "metadata": {},
   "outputs": [
    {
     "data": {
      "text/html": [
       "<div>\n",
       "<style scoped>\n",
       "    .dataframe tbody tr th:only-of-type {\n",
       "        vertical-align: middle;\n",
       "    }\n",
       "\n",
       "    .dataframe tbody tr th {\n",
       "        vertical-align: top;\n",
       "    }\n",
       "\n",
       "    .dataframe thead th {\n",
       "        text-align: right;\n",
       "    }\n",
       "</style>\n",
       "<table border=\"1\" class=\"dataframe\">\n",
       "  <thead>\n",
       "    <tr style=\"text-align: right;\">\n",
       "      <th></th>\n",
       "      <th>Name</th>\n",
       "      <th>Code</th>\n",
       "    </tr>\n",
       "  </thead>\n",
       "  <tbody>\n",
       "    <tr>\n",
       "      <th>0</th>\n",
       "      <td>Afghanistan</td>\n",
       "      <td>AF</td>\n",
       "    </tr>\n",
       "    <tr>\n",
       "      <th>1</th>\n",
       "      <td>Ã…land Islands</td>\n",
       "      <td>AX</td>\n",
       "    </tr>\n",
       "    <tr>\n",
       "      <th>2</th>\n",
       "      <td>Albania</td>\n",
       "      <td>AL</td>\n",
       "    </tr>\n",
       "    <tr>\n",
       "      <th>3</th>\n",
       "      <td>Algeria</td>\n",
       "      <td>DZ</td>\n",
       "    </tr>\n",
       "    <tr>\n",
       "      <th>4</th>\n",
       "      <td>American Samoa</td>\n",
       "      <td>AS</td>\n",
       "    </tr>\n",
       "    <tr>\n",
       "      <th>...</th>\n",
       "      <td>...</td>\n",
       "      <td>...</td>\n",
       "    </tr>\n",
       "    <tr>\n",
       "      <th>244</th>\n",
       "      <td>Wallis and Futuna</td>\n",
       "      <td>WF</td>\n",
       "    </tr>\n",
       "    <tr>\n",
       "      <th>245</th>\n",
       "      <td>Western Sahara</td>\n",
       "      <td>EH</td>\n",
       "    </tr>\n",
       "    <tr>\n",
       "      <th>246</th>\n",
       "      <td>Yemen</td>\n",
       "      <td>YE</td>\n",
       "    </tr>\n",
       "    <tr>\n",
       "      <th>247</th>\n",
       "      <td>Zambia</td>\n",
       "      <td>ZM</td>\n",
       "    </tr>\n",
       "    <tr>\n",
       "      <th>248</th>\n",
       "      <td>Zimbabwe</td>\n",
       "      <td>ZW</td>\n",
       "    </tr>\n",
       "  </tbody>\n",
       "</table>\n",
       "<p>249 rows × 2 columns</p>\n",
       "</div>"
      ],
      "text/plain": [
       "                  Name Code\n",
       "0          Afghanistan   AF\n",
       "1       Ã…land Islands   AX\n",
       "2              Albania   AL\n",
       "3              Algeria   DZ\n",
       "4       American Samoa   AS\n",
       "..                 ...  ...\n",
       "244  Wallis and Futuna   WF\n",
       "245     Western Sahara   EH\n",
       "246              Yemen   YE\n",
       "247             Zambia   ZM\n",
       "248           Zimbabwe   ZW\n",
       "\n",
       "[249 rows x 2 columns]"
      ]
     },
     "execution_count": 11,
     "metadata": {},
     "output_type": "execute_result"
    }
   ],
   "source": [
    "iso"
   ]
  },
  {
   "cell_type": "code",
   "execution_count": 48,
   "metadata": {},
   "outputs": [
    {
     "name": "stdout",
     "output_type": "stream",
     "text": [
      "Cote d'Ivoire\n",
      "Kosovo\n",
      "West Bank and Gaza\n"
     ]
    }
   ],
   "source": [
    "# regions without code \n",
    "iso2=pd.DataFrame(columns=iso.columns)\n",
    "for c in capital_dict:\n",
    "    iso2=iso2.append(iso[iso.Name==c],ignore_index=True)\n",
    "    if ((iso.Name==c).sum()==0):\n",
    "        print(c)"
   ]
  },
  {
   "cell_type": "code",
   "execution_count": 49,
   "metadata": {},
   "outputs": [],
   "source": [
    "iso2.rename(columns={'Name':\"Country\",'Code':'iso_country'},inplace=True)"
   ]
  },
  {
   "cell_type": "code",
   "execution_count": 50,
   "metadata": {},
   "outputs": [],
   "source": [
    "# put in manually \n",
    "iso2=iso2.append(pd.DataFrame({'Country':\"Cote d'Ivoire\",'iso_country':'CI'},index=[0]))\n",
    "iso2=iso2.append(pd.DataFrame({'Country':\"Kosovo\",'iso_country':'XK'},index=[0]))\n",
    "iso2=iso2.append(pd.DataFrame({'Country':\"West Bank and Gaza\",'iso_country':'PS'},index=[0]))"
   ]
  },
  {
   "cell_type": "code",
   "execution_count": 37,
   "metadata": {},
   "outputs": [
    {
     "data": {
      "text/html": [
       "<div>\n",
       "<style scoped>\n",
       "    .dataframe tbody tr th:only-of-type {\n",
       "        vertical-align: middle;\n",
       "    }\n",
       "\n",
       "    .dataframe tbody tr th {\n",
       "        vertical-align: top;\n",
       "    }\n",
       "\n",
       "    .dataframe thead th {\n",
       "        text-align: right;\n",
       "    }\n",
       "</style>\n",
       "<table border=\"1\" class=\"dataframe\">\n",
       "  <thead>\n",
       "    <tr style=\"text-align: right;\">\n",
       "      <th></th>\n",
       "      <th>Country</th>\n",
       "      <th>iso_country</th>\n",
       "    </tr>\n",
       "  </thead>\n",
       "  <tbody>\n",
       "    <tr>\n",
       "      <th>0</th>\n",
       "      <td>Afghanistan</td>\n",
       "      <td>AF</td>\n",
       "    </tr>\n",
       "    <tr>\n",
       "      <th>1</th>\n",
       "      <td>Albania</td>\n",
       "      <td>AL</td>\n",
       "    </tr>\n",
       "    <tr>\n",
       "      <th>2</th>\n",
       "      <td>Algeria</td>\n",
       "      <td>DZ</td>\n",
       "    </tr>\n",
       "    <tr>\n",
       "      <th>3</th>\n",
       "      <td>Andorra</td>\n",
       "      <td>AD</td>\n",
       "    </tr>\n",
       "    <tr>\n",
       "      <th>4</th>\n",
       "      <td>Angola</td>\n",
       "      <td>AO</td>\n",
       "    </tr>\n",
       "    <tr>\n",
       "      <th>...</th>\n",
       "      <td>...</td>\n",
       "      <td>...</td>\n",
       "    </tr>\n",
       "    <tr>\n",
       "      <th>157</th>\n",
       "      <td>Zimbabwe</td>\n",
       "      <td>ZW</td>\n",
       "    </tr>\n",
       "    <tr>\n",
       "      <th>158</th>\n",
       "      <td>US</td>\n",
       "      <td>US</td>\n",
       "    </tr>\n",
       "    <tr>\n",
       "      <th>0</th>\n",
       "      <td>Cote d'Ivoire</td>\n",
       "      <td>CI</td>\n",
       "    </tr>\n",
       "    <tr>\n",
       "      <th>0</th>\n",
       "      <td>Kosovo</td>\n",
       "      <td>XK</td>\n",
       "    </tr>\n",
       "    <tr>\n",
       "      <th>0</th>\n",
       "      <td>West Bank and Gaza</td>\n",
       "      <td>PS</td>\n",
       "    </tr>\n",
       "  </tbody>\n",
       "</table>\n",
       "<p>162 rows × 2 columns</p>\n",
       "</div>"
      ],
      "text/plain": [
       "                Country iso_country\n",
       "0           Afghanistan          AF\n",
       "1               Albania          AL\n",
       "2               Algeria          DZ\n",
       "3               Andorra          AD\n",
       "4                Angola          AO\n",
       "..                  ...         ...\n",
       "157            Zimbabwe          ZW\n",
       "158                  US          US\n",
       "0         Cote d'Ivoire          CI\n",
       "0                Kosovo          XK\n",
       "0    West Bank and Gaza          PS\n",
       "\n",
       "[162 rows x 2 columns]"
      ]
     },
     "execution_count": 37,
     "metadata": {},
     "output_type": "execute_result"
    }
   ],
   "source": [
    "iso2"
   ]
  },
  {
   "cell_type": "markdown",
   "metadata": {},
   "source": [
    "## Represent captials by airports"
   ]
  },
  {
   "cell_type": "code",
   "execution_count": 7,
   "metadata": {},
   "outputs": [],
   "source": [
    "airports=pd.read_csv(\"airports.csv\")\n",
    "#https://github.com/arangodb/example-datasets/blob/master/Airports/airports.csv \n",
    "#airports.dropna(subset=['iata_code']).to_csv(\"airports.csv\")"
   ]
  },
  {
   "cell_type": "code",
   "execution_count": 52,
   "metadata": {},
   "outputs": [],
   "source": [
    "airports=airports.merge(iso2,on='iso_country',how='inner')"
   ]
  },
  {
   "cell_type": "markdown",
   "metadata": {},
   "source": [
    "### List of all IATA code for countries"
   ]
  },
  {
   "cell_type": "code",
   "execution_count": 53,
   "metadata": {},
   "outputs": [
    {
     "data": {
      "text/html": [
       "<div>\n",
       "<style scoped>\n",
       "    .dataframe tbody tr th:only-of-type {\n",
       "        vertical-align: middle;\n",
       "    }\n",
       "\n",
       "    .dataframe tbody tr th {\n",
       "        vertical-align: top;\n",
       "    }\n",
       "\n",
       "    .dataframe thead th {\n",
       "        text-align: right;\n",
       "    }\n",
       "</style>\n",
       "<table border=\"1\" class=\"dataframe\">\n",
       "  <thead>\n",
       "    <tr style=\"text-align: right;\">\n",
       "      <th></th>\n",
       "      <th>Country</th>\n",
       "      <th>municipality</th>\n",
       "      <th>iata_code</th>\n",
       "    </tr>\n",
       "  </thead>\n",
       "  <tbody>\n",
       "    <tr>\n",
       "      <th>0</th>\n",
       "      <td>US</td>\n",
       "      <td>Key Largo</td>\n",
       "      <td>OCA</td>\n",
       "    </tr>\n",
       "    <tr>\n",
       "      <th>1</th>\n",
       "      <td>US</td>\n",
       "      <td>Pilot Station</td>\n",
       "      <td>PQS</td>\n",
       "    </tr>\n",
       "    <tr>\n",
       "      <th>2</th>\n",
       "      <td>US</td>\n",
       "      <td>Crested Butte</td>\n",
       "      <td>CSE</td>\n",
       "    </tr>\n",
       "    <tr>\n",
       "      <th>3</th>\n",
       "      <td>US</td>\n",
       "      <td>Johnson City</td>\n",
       "      <td>JCY</td>\n",
       "    </tr>\n",
       "    <tr>\n",
       "      <th>4</th>\n",
       "      <td>US</td>\n",
       "      <td>Palmer</td>\n",
       "      <td>PMX</td>\n",
       "    </tr>\n",
       "    <tr>\n",
       "      <th>...</th>\n",
       "      <td>...</td>\n",
       "      <td>...</td>\n",
       "      <td>...</td>\n",
       "    </tr>\n",
       "    <tr>\n",
       "      <th>8572</th>\n",
       "      <td>Tajikistan</td>\n",
       "      <td>Kurgan-Tyube</td>\n",
       "      <td>KQT</td>\n",
       "    </tr>\n",
       "    <tr>\n",
       "      <th>8573</th>\n",
       "      <td>Singapore</td>\n",
       "      <td>NaN</td>\n",
       "      <td>QPG</td>\n",
       "    </tr>\n",
       "    <tr>\n",
       "      <th>8574</th>\n",
       "      <td>Singapore</td>\n",
       "      <td>Western Water Catchment</td>\n",
       "      <td>TGA</td>\n",
       "    </tr>\n",
       "    <tr>\n",
       "      <th>8575</th>\n",
       "      <td>Singapore</td>\n",
       "      <td>Seletar</td>\n",
       "      <td>XSP</td>\n",
       "    </tr>\n",
       "    <tr>\n",
       "      <th>8576</th>\n",
       "      <td>Singapore</td>\n",
       "      <td>Singapore</td>\n",
       "      <td>SIN</td>\n",
       "    </tr>\n",
       "  </tbody>\n",
       "</table>\n",
       "<p>8577 rows × 3 columns</p>\n",
       "</div>"
      ],
      "text/plain": [
       "         Country             municipality iata_code\n",
       "0             US                Key Largo       OCA\n",
       "1             US            Pilot Station       PQS\n",
       "2             US            Crested Butte       CSE\n",
       "3             US             Johnson City       JCY\n",
       "4             US                   Palmer       PMX\n",
       "...          ...                      ...       ...\n",
       "8572  Tajikistan             Kurgan-Tyube       KQT\n",
       "8573   Singapore                      NaN       QPG\n",
       "8574   Singapore  Western Water Catchment       TGA\n",
       "8575   Singapore                  Seletar       XSP\n",
       "8576   Singapore                Singapore       SIN\n",
       "\n",
       "[8577 rows x 3 columns]"
      ]
     },
     "execution_count": 53,
     "metadata": {},
     "output_type": "execute_result"
    }
   ],
   "source": [
    "airports=airports[['Country','municipality','iata_code']]\n",
    "airports"
   ]
  },
  {
   "cell_type": "code",
   "execution_count": 54,
   "metadata": {},
   "outputs": [],
   "source": [
    "# capital corrections \n",
    "capital_dict['Bolivia']=['La Paz / El Alto']\n",
    "capital_dict['Costa Rica']=['San José (Alajuela)']\n",
    "capital_dict['Djibouti']=['Djibouti City']\n",
    "capital_dict['El Salvador']=['San Salvador (San Luis Talpa)']\n",
    "capital_dict['Israel']=['Tel Aviv']\n",
    "capital_dict['Kazakhstan']=['Nur-Sultan']\n",
    "capital_dict['Monaco']=['Fontvieille']\n",
    "capital_dict['Panama']=['Panamá City']\n",
    "capital_dict['Sao Tome and Principe']=['São Tomé']\n",
    "capital_dict['Sri Lanka']=['Colombo']\n",
    "capital_dict['Eswatini']=['Manzini','Mpaka']\n",
    "capital_dict['Seychelles']=['Mahe Island']"
   ]
  },
  {
   "cell_type": "markdown",
   "metadata": {},
   "source": [
    "### limit to the airports in capitals"
   ]
  },
  {
   "cell_type": "code",
   "execution_count": 55,
   "metadata": {},
   "outputs": [
    {
     "name": "stdout",
     "output_type": "stream",
     "text": [
      "Liechtenstein , Vaduz\n",
      "San Marino , San Marino\n",
      "West Bank and Gaza , Gaza\n"
     ]
    }
   ],
   "source": [
    "\n",
    "airport=pd.DataFrame(columns=airports.columns)\n",
    "for i in capital_dict:\n",
    "    #print(i)\n",
    "    for c in capital_dict[i]:\n",
    "        cond=(airports.municipality==c) & (airports.Country==i)\n",
    "        row=airports[cond]\n",
    "        airport=airport.append(row,ignore_index=True)\n",
    "        # no airport in capitals \n",
    "        if row.shape[0]==0:\n",
    "            print(i,',',c)"
   ]
  },
  {
   "cell_type": "code",
   "execution_count": 56,
   "metadata": {},
   "outputs": [],
   "source": [
    "# create country:IATA corrospondences\n",
    "iata={i:[] for i in capital_dict}\n",
    "## remove non-existent airports\n",
    "rm=['ZXT','TR7','ULC','NIC','HEX','DIA','PPJ','OSF','CKL','HPR','BYV',\n",
    "'KLA','AZI','JRS','BOF','BZS', 'JPN','OCW']\n",
    "\n",
    "\n",
    "for i in capital_dict:\n",
    "    #print(i)\n",
    "    for c in capital_dict[i]:\n",
    "        cond=(airports.municipality==c) & (airports.Country==i)\n",
    "        row=list(airports[cond].iata_code.to_numpy())\n",
    "\n",
    "        for a in row:          \n",
    "            if a not in rm:\n",
    "                iata[i].append(a)"
   ]
  },
  {
   "cell_type": "code",
   "execution_count": 65,
   "metadata": {
    "scrolled": true
   },
   "outputs": [],
   "source": [
    "# correction for popular airports\n",
    "iata['Switzerland']=['GVA','ZRH']\n",
    "iata['Panama']=['PTY']\n",
    "iata['Suriname']=['PBM']"
   ]
  },
  {
   "cell_type": "markdown",
   "metadata": {},
   "source": [
    "### country exclusion\n",
    "\n",
    "- countries too small to have airports: Liechtenstein, San Marino,Andorra,\n",
    " West Bank and Gaza?\n",
    "- countries so small that even UN doesn't have data on them: Monaco\n"
   ]
  },
  {
   "cell_type": "code",
   "execution_count": 69,
   "metadata": {},
   "outputs": [],
   "source": [
    "exclude=['Liechtenstein', 'San Marino','Andorra','West Bank and Gaza','Burma']\n",
    "for k in exclude:\n",
    "    if k in iata.keys():\n",
    "        del iata[k]"
   ]
  },
  {
   "cell_type": "code",
   "execution_count": 71,
   "metadata": {},
   "outputs": [
    {
     "data": {
      "text/plain": [
       "{'Afghanistan': ['KBL'],\n",
       " 'Albania': ['TIA'],\n",
       " 'Algeria': ['ALG'],\n",
       " 'Angola': ['LAD'],\n",
       " 'Antigua and Barbuda': ['ANU'],\n",
       " 'Argentina': ['AEP', 'EZE'],\n",
       " 'Armenia': ['EVN'],\n",
       " 'Australia': ['CBR'],\n",
       " 'Austria': ['VIE'],\n",
       " 'Azerbaijan': ['GYD'],\n",
       " 'Bahamas': ['NAS', 'PID'],\n",
       " 'Bahrain': ['BAH'],\n",
       " 'Bangladesh': ['DAC'],\n",
       " 'Barbados': ['BGI'],\n",
       " 'Belarus': ['MHP', 'MSQ'],\n",
       " 'Belgium': ['BRU', 'CRL'],\n",
       " 'Belize': ['TZA', 'BZE'],\n",
       " 'Bolivia': ['LPB'],\n",
       " 'Bosnia and Herzegovina': ['SJJ'],\n",
       " 'Botswana': ['GBE'],\n",
       " 'Brazil': ['BSB'],\n",
       " 'Bulgaria': ['SOF'],\n",
       " 'Burkina Faso': ['OUA'],\n",
       " 'Cabo Verde': ['RAI'],\n",
       " 'Cameroon': ['YAO', 'NSI'],\n",
       " 'Canada': ['YOW', 'YRO'],\n",
       " 'Central African Republic': ['BGF'],\n",
       " 'Chile': ['SCL'],\n",
       " 'China': ['PEK', 'PKX', 'NAY'],\n",
       " 'Colombia': ['BOG'],\n",
       " 'Comoros': ['HAH'],\n",
       " 'Congo (Brazzaville)': ['BZV'],\n",
       " 'Congo (Kinshasa)': ['FIH'],\n",
       " 'Costa Rica': ['SJO'],\n",
       " \"Cote d'Ivoire\": ['ASK', 'ABJ'],\n",
       " 'Croatia': ['ZAG'],\n",
       " 'Cuba': ['CFG'],\n",
       " 'Cyprus': ['ECN'],\n",
       " 'Czechia': ['PRG'],\n",
       " 'Denmark': ['CPH', 'RKE'],\n",
       " 'Djibouti': ['JIB'],\n",
       " 'Dominican Republic': ['SDQ'],\n",
       " 'Ecuador': ['UIO'],\n",
       " 'Egypt': ['CAI'],\n",
       " 'El Salvador': ['SAL'],\n",
       " 'Equatorial Guinea': ['SSG'],\n",
       " 'Estonia': ['TLL'],\n",
       " 'Eswatini': ['MTS', 'SHO'],\n",
       " 'Ethiopia': ['ADD'],\n",
       " 'Finland': ['HEM', 'HEL'],\n",
       " 'France': ['BVA', 'LBG', 'CDG', 'ORY'],\n",
       " 'Gabon': ['LBV'],\n",
       " 'Gambia': ['BJL'],\n",
       " 'Georgia': ['TBS'],\n",
       " 'Germany': ['BER', 'THF', 'TXL'],\n",
       " 'Ghana': ['ACC'],\n",
       " 'Greece': ['HEW', 'ATH'],\n",
       " 'Guatemala': ['GUA'],\n",
       " 'Guinea': ['CKY'],\n",
       " 'Guinea-Bissau': ['OXB'],\n",
       " 'Guyana': ['GEO'],\n",
       " 'Haiti': ['PAP'],\n",
       " 'Honduras': ['TGU'],\n",
       " 'Hungary': ['BUD'],\n",
       " 'Iceland': ['KEF'],\n",
       " 'India': ['DEL'],\n",
       " 'Indonesia': ['HLP', 'PCB', 'CGK'],\n",
       " 'Iran': ['IKA', 'THR'],\n",
       " 'Iraq': ['BGW'],\n",
       " 'Ireland': ['DUB'],\n",
       " 'Israel': ['TLV', 'SDV'],\n",
       " 'Italy': ['CIA', 'FCO'],\n",
       " 'Jamaica': ['KIN'],\n",
       " 'Japan': ['NRT', 'HND'],\n",
       " 'Jordan': ['AMM', 'ADJ'],\n",
       " 'Kazakhstan': ['NQZ'],\n",
       " 'Kenya': ['NBO', 'WIL'],\n",
       " 'Korea, South': ['ICN', 'GMP'],\n",
       " 'Kosovo': ['PRN'],\n",
       " 'Kuwait': ['KWI'],\n",
       " 'Kyrgyzstan': ['FRU'],\n",
       " 'Latvia': ['RIX'],\n",
       " 'Lebanon': ['BEY'],\n",
       " 'Lesotho': ['MSU'],\n",
       " 'Libya': ['MJI', 'TIP'],\n",
       " 'Lithuania': ['VNO'],\n",
       " 'Luxembourg': ['LUX'],\n",
       " 'Madagascar': ['TNR'],\n",
       " 'Malawi': ['LLW'],\n",
       " 'Malaysia': ['KUL'],\n",
       " 'Maldives': ['MLE'],\n",
       " 'Mali': ['BKO'],\n",
       " 'Malta': ['MLA'],\n",
       " 'Mauritania': ['NKC'],\n",
       " 'Mexico': ['MEX'],\n",
       " 'Moldova': ['KIV'],\n",
       " 'Monaco': ['MCM'],\n",
       " 'Mongolia': ['ULN'],\n",
       " 'Montenegro': ['TGD'],\n",
       " 'Morocco': ['RBA'],\n",
       " 'Mozambique': ['MPM'],\n",
       " 'Namibia': ['ERS', 'WDH'],\n",
       " 'Nepal': ['KTM'],\n",
       " 'Netherlands': ['AMS'],\n",
       " 'Nicaragua': ['MGA'],\n",
       " 'Nigeria': ['ABV'],\n",
       " 'North Macedonia': ['SKP'],\n",
       " 'Norway': ['FBU', 'OSL', 'RYG'],\n",
       " 'Oman': ['MCT'],\n",
       " 'Pakistan': ['ISB'],\n",
       " 'Panama': ['PTY'],\n",
       " 'Papua New Guinea': ['POM'],\n",
       " 'Paraguay': ['ASU'],\n",
       " 'Peru': ['LIM'],\n",
       " 'Philippines': ['MNL'],\n",
       " 'Poland': ['WMI', 'WAW'],\n",
       " 'Portugal': ['LIS'],\n",
       " 'Qatar': ['DOH'],\n",
       " 'Romania': ['BBU', 'OTP'],\n",
       " 'Russia': ['BKA', 'ZIA', 'DME', 'SVO', 'VKO'],\n",
       " 'Rwanda': ['KGL'],\n",
       " 'Saint Lucia': ['SLU'],\n",
       " 'Saint Vincent and the Grenadines': ['SVD', 'SVD'],\n",
       " 'Sao Tome and Principe': ['TMS'],\n",
       " 'Saudi Arabia': ['RUH', 'XXN'],\n",
       " 'Senegal': ['DSS', 'DKR'],\n",
       " 'Serbia': ['BEG'],\n",
       " 'Seychelles': ['SEZ'],\n",
       " 'Singapore': ['SIN'],\n",
       " 'Slovakia': ['BTS'],\n",
       " 'Slovenia': ['LJU'],\n",
       " 'Somalia': ['MGQ'],\n",
       " 'South Africa': ['QRA', 'HLA', 'JNB'],\n",
       " 'South Sudan': ['JUB'],\n",
       " 'Spain': ['ECV', 'MAD', 'TOJ'],\n",
       " 'Sri Lanka': ['DGM', 'KEZ', 'CMB', 'RML'],\n",
       " 'Sudan': ['KRT'],\n",
       " 'Suriname': ['PBM'],\n",
       " 'Sweden': ['NYO', 'ARN', 'BMA'],\n",
       " 'Switzerland': ['GVA', 'ZRH'],\n",
       " 'Syria': ['DAM'],\n",
       " 'Tajikistan': ['DYU'],\n",
       " 'Thailand': ['DMK', 'BKK'],\n",
       " 'Togo': ['LFW'],\n",
       " 'Trinidad and Tobago': ['POS'],\n",
       " 'Tunisia': ['TUN'],\n",
       " 'Turkey': ['ESB', 'ANK'],\n",
       " 'Uganda': ['EBB'],\n",
       " 'Ukraine': ['KBP', 'IEV', 'GML'],\n",
       " 'United Arab Emirates': ['AYM', 'AUH'],\n",
       " 'United Kingdom': ['LTN', 'BQH', 'LGW', 'LCY', 'LHR', 'SEN', 'STN', 'NHT'],\n",
       " 'Uruguay': ['MVD'],\n",
       " 'Uzbekistan': ['TAS'],\n",
       " 'Venezuela': ['CCS'],\n",
       " 'Zambia': ['LUN'],\n",
       " 'Zimbabwe': ['HRE'],\n",
       " 'US': ['WSG', 'DCA', 'IAD']}"
      ]
     },
     "execution_count": 71,
     "metadata": {},
     "output_type": "execute_result"
    }
   ],
   "source": [
    "iata"
   ]
  },
  {
   "cell_type": "code",
   "execution_count": null,
   "metadata": {},
   "outputs": [],
   "source": [
    "with open('country_iata.pkl','wb') as f:\n",
    "    pickle.dump(iata,f)"
   ]
  }
 ],
 "metadata": {
  "kernelspec": {
   "display_name": "Python [default]",
   "language": "python",
   "name": "python3"
  },
  "language_info": {
   "codemirror_mode": {
    "name": "ipython",
    "version": 3
   },
   "file_extension": ".py",
   "mimetype": "text/x-python",
   "name": "python",
   "nbconvert_exporter": "python",
   "pygments_lexer": "ipython3",
   "version": "3.6.5"
  }
 },
 "nbformat": 4,
 "nbformat_minor": 4
}
