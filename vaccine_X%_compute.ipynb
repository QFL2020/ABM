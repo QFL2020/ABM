{
 "cells": [
  {
   "cell_type": "markdown",
   "metadata": {},
   "source": [
    "## Compute regional vaccine dosage needed to achieve a given coverage in 3 months\n",
    "- target coverage to be input below"
   ]
  },
  {
   "cell_type": "code",
   "execution_count": 1,
   "metadata": {},
   "outputs": [],
   "source": [
    "from ABMpy_region.model import Meta_ABM \n",
    "from ABMpy_region.agent import ABM\n",
    "import numpy as np\n",
    "import pickle\n",
    "import copy\n",
    "import matplotlib.pyplot as plt\n",
    "import pandas as pd\n",
    "from collections import defaultdict \n",
    "import os\n",
    "import sys\n",
    "import matplotlib.backends.backend_pdf"
   ]
  },
  {
   "cell_type": "markdown",
   "metadata": {},
   "source": [
    "## scenario 1\n",
    "\n",
    "every country 10% by end of Sep"
   ]
  },
  {
   "cell_type": "code",
   "execution_count": 146,
   "metadata": {},
   "outputs": [],
   "source": [
    "# read in baseline projection data \n",
    "meta={}\n",
    "file='vaccine_scenarios_712/meta_'+'base'+'_data0'+'.pkl'\n",
    "\n",
    "with open(file,'rb') as f:\n",
    "    meta['base']=(pickle.load(f))\n",
    "regions=[]             \n",
    "for i in range(198):\n",
    "    r=meta['base'][i]['region']\n",
    "    regions.append(r)"
   ]
  },
  {
   "cell_type": "code",
   "execution_count": 77,
   "metadata": {},
   "outputs": [],
   "source": [
    "# vaccine dosage file \n",
    "vaccine=pd.read_csv(\"vaccine_info_83.csv\")\n",
    "vaccine.drop(columns='govex',inplace=True)\n",
    "\n"
   ]
  },
  {
   "cell_type": "code",
   "execution_count": 78,
   "metadata": {},
   "outputs": [],
   "source": [
    "# only regions we simulated \n",
    "vaccine=vaccine[vaccine.location.isin(regions)]"
   ]
  },
  {
   "cell_type": "code",
   "execution_count": 79,
   "metadata": {},
   "outputs": [],
   "source": [
    "for i in range(198):\n",
    "    r=meta['base'][i]['region']\n",
    "    vaccine.loc[vaccine.location==r,'population']=meta['base'][i]['actual_pop_scale']*10**6\n"
   ]
  },
  {
   "cell_type": "code",
   "execution_count": 80,
   "metadata": {},
   "outputs": [],
   "source": [
    "# impute NULL with 0\n",
    "vaccine.loc[vaccine['dailyVac1_permillion_duringLastMonth'].isnull(),'dailyVac1_permillion_duringLastMonth']=0"
   ]
  },
  {
   "cell_type": "code",
   "execution_count": 85,
   "metadata": {},
   "outputs": [],
   "source": [
    "# vaccine coverage as of 6/30/2021 \n",
    "vaccine['vacRate_546(6/30)']=vaccine['vac1RateCumu_asOfLastMonth']*2+100*vaccine.dailyVac1_permillion_duringLastMonth*2*30/10**6"
   ]
  },
  {
   "cell_type": "code",
   "execution_count": 86,
   "metadata": {},
   "outputs": [],
   "source": [
    "# baseline vaccine coverage 9/30\n",
    "vaccine['vacRate_9/30']=(vaccine['vacRate_546(6/30)']+100*(92*vaccine.dailyVac1_permillion_duringLastMonth*2/10**6))\n",
    "vaccine['vacRate_9/30']=vaccine['vacRate_9/30'].clip(upper=100)"
   ]
  },
  {
   "cell_type": "code",
   "execution_count": 14,
   "metadata": {},
   "outputs": [],
   "source": [
    "#vaccine"
   ]
  },
  {
   "cell_type": "markdown",
   "metadata": {},
   "source": [
    "### INPUT HERE"
   ]
  },
  {
   "cell_type": "code",
   "execution_count": 124,
   "metadata": {},
   "outputs": [],
   "source": [
    "target_percentage=26.012 #26.059 \n",
    "\n",
    "# if baseline coverage on 9/30 < target: add donation\n",
    "for i,row in vaccine.iterrows():\n",
    "    r=row.location\n",
    "    if row['vacRate_9/30']<target_percentage:   \n",
    "        vaccine.loc[i,'new_dailyvac1Rate_to_6/30-9/30_10%']= (target_percentage-row['vacRate_546(6/30)'])/100*10**6/92/2\n",
    "    else:\n",
    "        vaccine.loc[i,'new_dailyvac1Rate_to_6/30-9/30_10%']=row.dailyVac1_permillion_duringLastMonth"
   ]
  },
  {
   "cell_type": "code",
   "execution_count": 125,
   "metadata": {
    "scrolled": true
   },
   "outputs": [
    {
     "name": "stdout",
     "output_type": "stream",
     "text": [
      "5000247.29804556\n"
     ]
    }
   ],
   "source": [
    "# additional global vaccine needed \n",
    "vaccine['donation']=(vaccine['new_dailyvac1Rate_to_6/30-9/30_10%']-vaccine['dailyVac1_permillion_duringLastMonth'])*2*vaccine.population/10**6\n",
    "total_donation=vaccine['donation'].sum()\n",
    "print(total_donation)\n"
   ]
  },
  {
   "cell_type": "markdown",
   "metadata": {},
   "source": [
    "total_donation needs to be recorded "
   ]
  },
  {
   "cell_type": "code",
   "execution_count": 126,
   "metadata": {},
   "outputs": [],
   "source": [
    "# baseline given total_donation\n",
    "'''compute the distribution of vaccines if donation distributes by actual supply'''\n",
    "\n",
    "# actual dosage supply last month, scaled back to population szie\n",
    "vaccine['self_actual_dose']=vaccine['dailyVac1_permillion_duringLastMonth']*2*vaccine['population']/10**6\n",
    "# absolute value of baseline donation\n",
    "vaccine['baseline_donation(abs)']=total_donation*vaccine['self_actual_dose']/vaccine['self_actual_dose'].sum()\n",
    "# scaled to dosage per million\n",
    "vaccine['baseline_dosage_permillion_vac1']=vaccine['baseline_donation(abs)']/vaccine['population']*10**6/2+vaccine['dailyVac1_permillion_duringLastMonth']"
   ]
  },
  {
   "cell_type": "code",
   "execution_count": 127,
   "metadata": {},
   "outputs": [
    {
     "data": {
      "text/plain": [
       "5000247.298045562"
      ]
     },
     "execution_count": 127,
     "metadata": {},
     "output_type": "execute_result"
    }
   ],
   "source": [
    "# sanity check, the two distribution should give the same total donation \n",
    "((vaccine.baseline_dosage_permillion_vac1-vaccine.dailyVac1_permillion_duringLastMonth)*2*vaccine.population/10**6).sum()"
   ]
  },
  {
   "cell_type": "code",
   "execution_count": 128,
   "metadata": {},
   "outputs": [],
   "source": [
    "vaccine.to_csv(\"vaccine_info_83_\"+str(int(target_percentage))+\"percent_plan.csv\",index=False)"
   ]
  },
  {
   "cell_type": "code",
   "execution_count": null,
   "metadata": {},
   "outputs": [],
   "source": []
  }
 ],
 "metadata": {
  "kernelspec": {
   "display_name": "Python [conda env:env]",
   "language": "python",
   "name": "conda-env-env-py"
  },
  "language_info": {
   "codemirror_mode": {
    "name": "ipython",
    "version": 3
   },
   "file_extension": ".py",
   "mimetype": "text/x-python",
   "name": "python",
   "nbconvert_exporter": "python",
   "pygments_lexer": "ipython3",
   "version": "3.8.5"
  }
 },
 "nbformat": 4,
 "nbformat_minor": 2
}
